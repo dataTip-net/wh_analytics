{
 "cells": [
  {
   "cell_type": "code",
   "execution_count": 372,
   "metadata": {},
   "outputs": [],
   "source": [
    "def read_file(file):\n",
    "    x = open(file,'r', encoding = 'utf-8')\n",
    "    y = x.read()\n",
    "    content = y.splitlines()\n",
    "    return content\n",
    "\n",
    "chat = read_file('_chat.txt') #ruta donde esté el archivo"
   ]
  },
  {
   "cell_type": "code",
   "execution_count": 373,
   "metadata": {},
   "outputs": [
    {
     "data": {
      "text/plain": [
       "list"
      ]
     },
     "execution_count": 373,
     "metadata": {},
     "output_type": "execute_result"
    }
   ],
   "source": [
    "type(chat)"
   ]
  },
  {
   "cell_type": "markdown",
   "metadata": {},
   "source": [
    "Tenemos un lista, pero necesitamos pre procesarla para luego armar nuestro DataFrame <br>\n",
    "Cada entrada viene dada de la siguiente manera:\n",
    "> __[Fecha Hora] Nombre: mensaje__\n",
    "\n",
    "__Aclaración:__ El formato puede llegar a variar según el idioma y la versión que tengan.\n"
   ]
  },
  {
   "cell_type": "code",
   "execution_count": 374,
   "metadata": {},
   "outputs": [],
   "source": [
    "import datetime\n",
    "\n",
    "for i in range(len(chat)):\n",
    "    chat[i] = chat[i].strip('\\u200e') \n",
    "    chat[i] = chat[i].replace('[','') #eliminamos '['\n",
    "    chat[i] = chat[i].replace(']','|') #reemplazamos ']' por '|' para usarlo como separador\n",
    "    try:\n",
    "        datetime.datetime.strptime(chat[i].split('|')[0], '%d/%m/%y %H:%M:%S') #Convertimos las fechas a un objeto datetime\n",
    "    \n",
    "# Para los mensajes largos que tienen mas de una entrada, como no empiezan con la fecha,\n",
    "# los agregamos a la entrada anterior y eliminamos esa. \n",
    "    except ValueError:\n",
    "        chat[i-1] = chat[i-1] + ' ' + chat[i]     \n",
    "        chat[i] = \"NA\"\n",
    "\n",
    "for i in range(len(chat)):\n",
    "    if chat[i].split(' ')[0] == 'NA':\n",
    "        chat[i] = 'NA'\n",
    "    \n",
    "while True:\n",
    "    try:\n",
    "        chat.remove(\"NA\")\n",
    "    except ValueError:\n",
    "        break"
   ]
  },
  {
   "cell_type": "markdown",
   "metadata": {},
   "source": [
    "Generamos las primeras features para luego armar el DataFrame.<br>\n",
    "Anteriormente reemplazamos '[ ]' por '|'. Vamos a usar esto ahora para poder separar los atributos, usando la lógica de comprensión de lista"
   ]
  },
  {
   "cell_type": "code",
   "execution_count": 375,
   "metadata": {},
   "outputs": [],
   "source": [
    "fecha = [datetime.datetime.strptime(text.split(' ')[0], '%d/%m/%y') for text in chat] \n",
    "hora = [chat[i].split('|')[0].split(' ')[1] for i in range(len(chat))]\n",
    "nombre = [chat[i].split('|')[1].split(':')[0].lstrip() for i in range(len(chat))]\n",
    "mensaje = []\n",
    "for i in range(len(chat)):\n",
    "  try:\n",
    "    mensaje.append(chat[i].split('|')[1].split(':')[1].strip('\\u200e'))\n",
    "  except IndexError:\n",
    "    mensaje.append('Texto Faltante') #son acciones, como por ejemplo cambiar el nombre del grupo"
   ]
  },
  {
   "cell_type": "code",
   "execution_count": 376,
   "metadata": {},
   "outputs": [],
   "source": [
    "import pandas as pd\n",
    "df = pd.DataFrame(list(zip(fecha, hora, nombre, mensaje)), columns = ['Fecha', 'Hora', 'Nombre', 'Mensaje'])"
   ]
  },
  {
   "cell_type": "markdown",
   "metadata": {},
   "source": [
    "Dentro de los mensajes, podemos ver que el contenido multimedia se ha omitido, por ejemplo tenemos los siguientes mensajes:"
   ]
  },
  {
   "cell_type": "code",
   "execution_count": 377,
   "metadata": {},
   "outputs": [
    {
     "data": {
      "text/plain": [
       "[' \\u200eTarjeta de contacto omitida',\n",
       " ' \\u200eTarjeta de contacto omitida',\n",
       " ' \\u200eimagen omitida',\n",
       " ' \\u200eaudio omitido',\n",
       " ' \\u200esticker omitido',\n",
       " ' \\u200eimagen omitida',\n",
       " ' \\u200eimagen omitida',\n",
       " ' \\u200eimagen omitida',\n",
       " ' \\u200eaudio omitido',\n",
       " ' \\u200eVideo omitido']"
      ]
     },
     "execution_count": 377,
     "metadata": {},
     "output_type": "execute_result"
    }
   ],
   "source": [
    "[txt for txt in df['Mensaje'] if (txt.endswith('omitida') or txt.endswith('omitido'))][:10]"
   ]
  },
  {
   "cell_type": "markdown",
   "metadata": {},
   "source": [
    "Esto nos sirve para saber por ejemplo, el tipo de contenido que se ha enviado.<br>\n",
    "Para esto nos quedamos solo con la parte que nos interesa y lo incorporamos a nuesto df."
   ]
  },
  {
   "cell_type": "code",
   "execution_count": 378,
   "metadata": {},
   "outputs": [],
   "source": [
    "df['Media'] = [txt.replace('omitido','').replace('omitida','').split()[-1].strip('\\u200e') if (txt.endswith('omitida') or txt.endswith('omitido')) else None for txt in df['Mensaje'] ]\n",
    "#eliminamos las palabras omitido u omitida y nos quedamos con la ultima palabra del texto, que es el tipo de contenido"
   ]
  },
  {
   "cell_type": "code",
   "execution_count": 379,
   "metadata": {},
   "outputs": [
    {
     "data": {
      "text/plain": [
       "imagen       3212\n",
       "sticker      2345\n",
       "audio        1289\n",
       "Video         893\n",
       "GIF            99\n",
       "contacto       24\n",
       "documento      23\n",
       "Name: Media, dtype: int64"
      ]
     },
     "execution_count": 379,
     "metadata": {},
     "output_type": "execute_result"
    }
   ],
   "source": [
    "df['Media'].value_counts()"
   ]
  },
  {
   "cell_type": "code",
   "execution_count": 380,
   "metadata": {},
   "outputs": [],
   "source": [
    "df['Mensaje'] = [txt.lstrip() for txt in df['Mensaje']] #eliminar espacios iniciales\n",
    "df['Caracteres']=[len(txt) for txt in df['Mensaje']] #contamos la cantidad de caracteres de cada mensajes\n",
    "df['Periodo'] = [d.year*100+d.month for d in df['Fecha']] #Año y mes del mensaje\n",
    "\n",
    "import locale\n",
    "locale.setlocale(locale.LC_TIME, '') #detalle para cambiar el idioma de los días de la semana.\n",
    "df['Dia'] = [d.strftime('%A') for d in df['Fecha']] #dia de la semana"
   ]
  },
  {
   "cell_type": "code",
   "execution_count": 381,
   "metadata": {},
   "outputs": [],
   "source": [
    "df = df[df['Mensaje']!='Texto Faltante']"
   ]
  },
  {
   "cell_type": "code",
   "execution_count": 382,
   "metadata": {},
   "outputs": [],
   "source": [
    "def momento_dia(hora):\n",
    "    return (\n",
    "        \"madrugada\" if 2 <= hora <= 7\n",
    "        else\n",
    "        \"mañana\" if 7 < hora <= 12\n",
    "        else\n",
    "        \"mediodia\" if 12 < hora <= 16\n",
    "        else\n",
    "        \"tarde\" if 16 < hora <= 20\n",
    "        else\n",
    "        \"noche\"\n",
    "    )\n",
    "\n",
    "df['Momento_Dia'] = [momento_dia(datetime.datetime.strptime(hora,'%H:%M:%S').hour) for hora in df['Hora']] #aplicamos la funcion a cada valor"
   ]
  },
  {
   "cell_type": "markdown",
   "metadata": {},
   "source": [
    "Para hacer públicos los datos en este ejemplo, vamos a ocultar los nombres reales del chat reemplazandolos un diccionario de nombres y los mensajes reemplazando las letras por *.<br>\n",
    "Si fuese para uso personal no es necesario."
   ]
  },
  {
   "cell_type": "code",
   "execution_count": 383,
   "metadata": {},
   "outputs": [],
   "source": [
    "miembros = df['Nombre'].unique()\n",
    "q_miembros = len(miembros)\n",
    "n_miembros = ['Miembro '+str(n) for n in range(q_miembros)]\n",
    "Miembros = dict(zip(miembros,n_miembros))"
   ]
  },
  {
   "cell_type": "code",
   "execution_count": 384,
   "metadata": {},
   "outputs": [],
   "source": [
    "df = df.replace({\"Nombre\": Miembros})"
   ]
  },
  {
   "cell_type": "code",
   "execution_count": 385,
   "metadata": {},
   "outputs": [],
   "source": [
    "def ocultar_msg(msg):\n",
    "    return ''.join([\"*\" if letter.isalpha() else letter for letter in msg])\n",
    "df['Mensaje'] = [ocultar_msg(msg) for msg in df['Mensaje']]"
   ]
  },
  {
   "cell_type": "markdown",
   "metadata": {},
   "source": [
    "Por ultimo, nos puede interesar la relación que existe entre los miembros del grupo.<br> Podemos estima esta relación con un nuevo campo que determine a que miembro está respondiendo en función de su posición. El mensaje posterior no es necesariamente la respuesta a uno anterior, pero si podemos asumir que están interactuando en ese momento. "
   ]
  },
  {
   "cell_type": "code",
   "execution_count": 386,
   "metadata": {},
   "outputs": [],
   "source": [
    "import numpy as np\n",
    "df.reset_index(inplace=True) #ya que borramos filas en el camino\n",
    "df['Respuesta'] = [df.loc[i-1, 'Nombre'] if i>0 else None for i in range(len(df))]\n",
    "df['Respuesta'] = np.where(df['Respuesta'] == df['Nombre'],None,df['Respuesta'])"
   ]
  },
  {
   "cell_type": "code",
   "execution_count": 387,
   "metadata": {},
   "outputs": [
    {
     "data": {
      "text/html": [
       "<div>\n",
       "<style scoped>\n",
       "    .dataframe tbody tr th:only-of-type {\n",
       "        vertical-align: middle;\n",
       "    }\n",
       "\n",
       "    .dataframe tbody tr th {\n",
       "        vertical-align: top;\n",
       "    }\n",
       "\n",
       "    .dataframe thead th {\n",
       "        text-align: right;\n",
       "    }\n",
       "</style>\n",
       "<table border=\"1\" class=\"dataframe\">\n",
       "  <thead>\n",
       "    <tr style=\"text-align: right;\">\n",
       "      <th></th>\n",
       "      <th>index</th>\n",
       "      <th>Fecha</th>\n",
       "      <th>Hora</th>\n",
       "      <th>Nombre</th>\n",
       "      <th>Mensaje</th>\n",
       "      <th>Media</th>\n",
       "      <th>Caracteres</th>\n",
       "      <th>Periodo</th>\n",
       "      <th>Dia</th>\n",
       "      <th>Momento_Dia</th>\n",
       "      <th>Respuesta</th>\n",
       "    </tr>\n",
       "  </thead>\n",
       "  <tbody>\n",
       "    <tr>\n",
       "      <th>86318</th>\n",
       "      <td>86469</td>\n",
       "      <td>2020-10-22</td>\n",
       "      <td>13:29:20</td>\n",
       "      <td>Miembro 32</td>\n",
       "      <td>******** ** ***** ***** ** *****</td>\n",
       "      <td>None</td>\n",
       "      <td>32</td>\n",
       "      <td>202010</td>\n",
       "      <td>jueves</td>\n",
       "      <td>mediodia</td>\n",
       "      <td>None</td>\n",
       "    </tr>\n",
       "    <tr>\n",
       "      <th>86319</th>\n",
       "      <td>86470</td>\n",
       "      <td>2020-10-22</td>\n",
       "      <td>13:29:24</td>\n",
       "      <td>Miembro 10</td>\n",
       "      <td>******** ** **** *********</td>\n",
       "      <td>None</td>\n",
       "      <td>26</td>\n",
       "      <td>202010</td>\n",
       "      <td>jueves</td>\n",
       "      <td>mediodia</td>\n",
       "      <td>Miembro 32</td>\n",
       "    </tr>\n",
       "    <tr>\n",
       "      <th>86320</th>\n",
       "      <td>86471</td>\n",
       "      <td>2020-10-22</td>\n",
       "      <td>13:29:25</td>\n",
       "      <td>Miembro 32</td>\n",
       "      <td>** ***** *** ******* ** ** **** ******</td>\n",
       "      <td>None</td>\n",
       "      <td>38</td>\n",
       "      <td>202010</td>\n",
       "      <td>jueves</td>\n",
       "      <td>mediodia</td>\n",
       "      <td>Miembro 10</td>\n",
       "    </tr>\n",
       "    <tr>\n",
       "      <th>86321</th>\n",
       "      <td>86472</td>\n",
       "      <td>2020-10-22</td>\n",
       "      <td>13:29:28</td>\n",
       "      <td>Miembro 23</td>\n",
       "      <td>***** ******</td>\n",
       "      <td>None</td>\n",
       "      <td>12</td>\n",
       "      <td>202010</td>\n",
       "      <td>jueves</td>\n",
       "      <td>mediodia</td>\n",
       "      <td>Miembro 32</td>\n",
       "    </tr>\n",
       "    <tr>\n",
       "      <th>86322</th>\n",
       "      <td>86473</td>\n",
       "      <td>2020-10-22</td>\n",
       "      <td>13:29:37</td>\n",
       "      <td>Miembro 22</td>\n",
       "      <td>**** **** **** *** ************* *** *********...</td>\n",
       "      <td>None</td>\n",
       "      <td>112</td>\n",
       "      <td>202010</td>\n",
       "      <td>jueves</td>\n",
       "      <td>mediodia</td>\n",
       "      <td>Miembro 23</td>\n",
       "    </tr>\n",
       "    <tr>\n",
       "      <th>86323</th>\n",
       "      <td>86474</td>\n",
       "      <td>2020-10-22</td>\n",
       "      <td>13:29:51</td>\n",
       "      <td>Miembro 23</td>\n",
       "      <td>************ **********************</td>\n",
       "      <td>None</td>\n",
       "      <td>35</td>\n",
       "      <td>202010</td>\n",
       "      <td>jueves</td>\n",
       "      <td>mediodia</td>\n",
       "      <td>Miembro 22</td>\n",
       "    </tr>\n",
       "    <tr>\n",
       "      <th>86324</th>\n",
       "      <td>86475</td>\n",
       "      <td>2020-10-22</td>\n",
       "      <td>13:29:56</td>\n",
       "      <td>Miembro 23</td>\n",
       "      <td>****** **** ** ****</td>\n",
       "      <td>None</td>\n",
       "      <td>19</td>\n",
       "      <td>202010</td>\n",
       "      <td>jueves</td>\n",
       "      <td>mediodia</td>\n",
       "      <td>None</td>\n",
       "    </tr>\n",
       "    <tr>\n",
       "      <th>86325</th>\n",
       "      <td>86476</td>\n",
       "      <td>2020-10-22</td>\n",
       "      <td>13:29:59</td>\n",
       "      <td>Miembro 23</td>\n",
       "      <td>****</td>\n",
       "      <td>None</td>\n",
       "      <td>4</td>\n",
       "      <td>202010</td>\n",
       "      <td>jueves</td>\n",
       "      <td>mediodia</td>\n",
       "      <td>None</td>\n",
       "    </tr>\n",
       "    <tr>\n",
       "      <th>86326</th>\n",
       "      <td>86477</td>\n",
       "      <td>2020-10-22</td>\n",
       "      <td>13:30:01</td>\n",
       "      <td>Miembro 23</td>\n",
       "      <td>*** ******* ******??</td>\n",
       "      <td>None</td>\n",
       "      <td>20</td>\n",
       "      <td>202010</td>\n",
       "      <td>jueves</td>\n",
       "      <td>mediodia</td>\n",
       "      <td>None</td>\n",
       "    </tr>\n",
       "    <tr>\n",
       "      <th>86327</th>\n",
       "      <td>86478</td>\n",
       "      <td>2020-10-22</td>\n",
       "      <td>13:30:07</td>\n",
       "      <td>Miembro 22</td>\n",
       "      <td>****</td>\n",
       "      <td>None</td>\n",
       "      <td>4</td>\n",
       "      <td>202010</td>\n",
       "      <td>jueves</td>\n",
       "      <td>mediodia</td>\n",
       "      <td>Miembro 23</td>\n",
       "    </tr>\n",
       "    <tr>\n",
       "      <th>86328</th>\n",
       "      <td>86479</td>\n",
       "      <td>2020-10-22</td>\n",
       "      <td>13:30:26</td>\n",
       "      <td>Miembro 22</td>\n",
       "      <td>********* 🤗</td>\n",
       "      <td>None</td>\n",
       "      <td>11</td>\n",
       "      <td>202010</td>\n",
       "      <td>jueves</td>\n",
       "      <td>mediodia</td>\n",
       "      <td>None</td>\n",
       "    </tr>\n",
       "    <tr>\n",
       "      <th>86329</th>\n",
       "      <td>86480</td>\n",
       "      <td>2020-10-22</td>\n",
       "      <td>13:30:36</td>\n",
       "      <td>Miembro 23</td>\n",
       "      <td>**** ** ******* ***</td>\n",
       "      <td>None</td>\n",
       "      <td>19</td>\n",
       "      <td>202010</td>\n",
       "      <td>jueves</td>\n",
       "      <td>mediodia</td>\n",
       "      <td>Miembro 22</td>\n",
       "    </tr>\n",
       "    <tr>\n",
       "      <th>86330</th>\n",
       "      <td>86481</td>\n",
       "      <td>2020-10-22</td>\n",
       "      <td>13:30:47</td>\n",
       "      <td>Miembro 22</td>\n",
       "      <td>**** ** ********</td>\n",
       "      <td>None</td>\n",
       "      <td>16</td>\n",
       "      <td>202010</td>\n",
       "      <td>jueves</td>\n",
       "      <td>mediodia</td>\n",
       "      <td>Miembro 23</td>\n",
       "    </tr>\n",
       "    <tr>\n",
       "      <th>86331</th>\n",
       "      <td>86482</td>\n",
       "      <td>2020-10-22</td>\n",
       "      <td>13:30:51</td>\n",
       "      <td>Miembro 22</td>\n",
       "      <td>**** ** ******</td>\n",
       "      <td>None</td>\n",
       "      <td>14</td>\n",
       "      <td>202010</td>\n",
       "      <td>jueves</td>\n",
       "      <td>mediodia</td>\n",
       "      <td>None</td>\n",
       "    </tr>\n",
       "    <tr>\n",
       "      <th>86332</th>\n",
       "      <td>86483</td>\n",
       "      <td>2020-10-22</td>\n",
       "      <td>13:30:52</td>\n",
       "      <td>Miembro 23</td>\n",
       "      <td>****** ** ********</td>\n",
       "      <td>None</td>\n",
       "      <td>18</td>\n",
       "      <td>202010</td>\n",
       "      <td>jueves</td>\n",
       "      <td>mediodia</td>\n",
       "      <td>Miembro 22</td>\n",
       "    </tr>\n",
       "  </tbody>\n",
       "</table>\n",
       "</div>"
      ],
      "text/plain": [
       "       index      Fecha      Hora      Nombre  \\\n",
       "86318  86469 2020-10-22  13:29:20  Miembro 32   \n",
       "86319  86470 2020-10-22  13:29:24  Miembro 10   \n",
       "86320  86471 2020-10-22  13:29:25  Miembro 32   \n",
       "86321  86472 2020-10-22  13:29:28  Miembro 23   \n",
       "86322  86473 2020-10-22  13:29:37  Miembro 22   \n",
       "86323  86474 2020-10-22  13:29:51  Miembro 23   \n",
       "86324  86475 2020-10-22  13:29:56  Miembro 23   \n",
       "86325  86476 2020-10-22  13:29:59  Miembro 23   \n",
       "86326  86477 2020-10-22  13:30:01  Miembro 23   \n",
       "86327  86478 2020-10-22  13:30:07  Miembro 22   \n",
       "86328  86479 2020-10-22  13:30:26  Miembro 22   \n",
       "86329  86480 2020-10-22  13:30:36  Miembro 23   \n",
       "86330  86481 2020-10-22  13:30:47  Miembro 22   \n",
       "86331  86482 2020-10-22  13:30:51  Miembro 22   \n",
       "86332  86483 2020-10-22  13:30:52  Miembro 23   \n",
       "\n",
       "                                                 Mensaje Media  Caracteres  \\\n",
       "86318                   ******** ** ***** ***** ** *****  None          32   \n",
       "86319                         ******** ** **** *********  None          26   \n",
       "86320             ** ***** *** ******* ** ** **** ******  None          38   \n",
       "86321                                       ***** ******  None          12   \n",
       "86322  **** **** **** *** ************* *** *********...  None         112   \n",
       "86323                ************ **********************  None          35   \n",
       "86324                                ****** **** ** ****  None          19   \n",
       "86325                                               ****  None           4   \n",
       "86326                               *** ******* ******??  None          20   \n",
       "86327                                               ****  None           4   \n",
       "86328                                        ********* 🤗  None          11   \n",
       "86329                                **** ** ******* ***  None          19   \n",
       "86330                                   **** ** ********  None          16   \n",
       "86331                                     **** ** ******  None          14   \n",
       "86332                                 ****** ** ********  None          18   \n",
       "\n",
       "       Periodo     Dia Momento_Dia   Respuesta  \n",
       "86318   202010  jueves    mediodia        None  \n",
       "86319   202010  jueves    mediodia  Miembro 32  \n",
       "86320   202010  jueves    mediodia  Miembro 10  \n",
       "86321   202010  jueves    mediodia  Miembro 32  \n",
       "86322   202010  jueves    mediodia  Miembro 23  \n",
       "86323   202010  jueves    mediodia  Miembro 22  \n",
       "86324   202010  jueves    mediodia        None  \n",
       "86325   202010  jueves    mediodia        None  \n",
       "86326   202010  jueves    mediodia        None  \n",
       "86327   202010  jueves    mediodia  Miembro 23  \n",
       "86328   202010  jueves    mediodia        None  \n",
       "86329   202010  jueves    mediodia  Miembro 22  \n",
       "86330   202010  jueves    mediodia  Miembro 23  \n",
       "86331   202010  jueves    mediodia        None  \n",
       "86332   202010  jueves    mediodia  Miembro 22  "
      ]
     },
     "execution_count": 387,
     "metadata": {},
     "output_type": "execute_result"
    }
   ],
   "source": [
    "df[-50:-35]"
   ]
  },
  {
   "cell_type": "markdown",
   "metadata": {},
   "source": [
    "Con estos featrues ya podemos comenzar a realizar nuestro análisis.."
   ]
  },
  {
   "cell_type": "markdown",
   "metadata": {},
   "source": [
    "### Cantidad de Mensajes por Periodo"
   ]
  },
  {
   "cell_type": "code",
   "execution_count": 388,
   "metadata": {},
   "outputs": [],
   "source": [
    "import matplotlib.pyplot as plt\n",
    "import seaborn as sns"
   ]
  },
  {
   "cell_type": "code",
   "execution_count": 389,
   "metadata": {},
   "outputs": [
    {
     "data": {
      "image/png": "[encoded data removed]",
      "text/plain": [
       "<Figure size 1008x360 with 1 Axes>"
      ]
     },
     "metadata": {
      "needs_background": "light"
     },
     "output_type": "display_data"
    }
   ],
   "source": [
    "plt.figure(figsize=(14,5))\n",
    "g = sns.countplot(data= df,x='Periodo', color='blue')\n",
    "g.set_xticklabels(g.get_xticklabels(), rotation=45, horizontalalignment='right')\n",
    "plt.show()"
   ]
  },
  {
   "cell_type": "markdown",
   "metadata": {},
   "source": [
    "### En qué momentos del día hay mayor actividad?"
   ]
  },
  {
   "cell_type": "code",
   "execution_count": 530,
   "metadata": {},
   "outputs": [],
   "source": [
    "df2 = df.groupby(['Dia', 'Momento_Dia'])['Dia'].count().unstack('Momento_Dia')\n",
    "df2[\"sum\"] = df2.sum(axis=1)\n",
    "df2 = df2.div(df2[\"sum\"], axis=0)\n",
    "\n",
    "dias = [\"lunes\",\"martes\",\"miércoles\",\"jueves\",\"viernes\",\"sábado\",\"domingo\"]\n",
    "momento = [\"mañana\",\"mediodia\",\"tarde\",\"noche\",\"madrugada\"]\n",
    "df2=df2.reindex(dias)\n",
    "df2=df2[momento]"
   ]
  },
  {
   "cell_type": "code",
   "execution_count": 538,
   "metadata": {},
   "outputs": [
    {
     "data": {
      "image/png": "[encoded data removed]",
      "text/plain": [
       "<Figure size 720x360 with 1 Axes>"
      ]
     },
     "metadata": {
      "needs_background": "light"
     },
     "output_type": "display_data"
    }
   ],
   "source": [
    "df2.plot(kind='bar', stacked=True,figsize=(10,5),colormap='Set2')\n",
    "plt.show()"
   ]
  },
  {
   "cell_type": "markdown",
   "metadata": {},
   "source": [
    "### Los que más stickers enviaron durante 2020.. "
   ]
  },
  {
   "cell_type": "code",
   "execution_count": 524,
   "metadata": {},
   "outputs": [
    {
     "data": {
      "image/png": "[encoded data removed]",
      "text/plain": [
       "<Figure size 720x360 with 1 Axes>"
      ]
     },
     "metadata": {
      "needs_background": "light"
     },
     "output_type": "display_data"
    }
   ],
   "source": [
    "df['s']= df['Media']=='sticker'\n",
    "s = df[df[\"Fecha\"].dt.year==2020].groupby('Nombre').mean()['s']*100\n",
    "s = s.sort_values(ascending=False)[:10]\n",
    "s.plot(kind='barh',title='Porcentaje de stickers enviados sobre total de mensajes',figsize=(10,5))\n",
    "plt.show()"
   ]
  },
  {
   "cell_type": "markdown",
   "metadata": {},
   "source": [
    "Se ve que el miembro 4 tiene una importante galeria de stickers. El 12% de sus mensajes son de este tipo."
   ]
  },
  {
   "cell_type": "markdown",
   "metadata": {},
   "source": [
    "### Tipo de Contenido por franja horaria "
   ]
  },
  {
   "cell_type": "code",
   "execution_count": 537,
   "metadata": {},
   "outputs": [
    {
     "data": {
      "image/png": "[encoded data removed]",
      "text/plain": [
       "<Figure size 720x360 with 1 Axes>"
      ]
     },
     "metadata": {
      "needs_background": "light"
     },
     "output_type": "display_data"
    }
   ],
   "source": [
    "df3 = df.groupby(['Momento_Dia', 'Media'])['Momento_Dia'].count().unstack('Media')\n",
    "df3[\"sum\"] = df3.sum(axis=1)\n",
    "df3 = df3.div(df3[\"sum\"], axis=0)\n",
    "df3.reindex(momento).iloc[:,:-1].plot(kind='bar', stacked=True,figsize=(10,5),colormap='Set2')\n",
    "plt.show()"
   ]
  },
  {
   "cell_type": "markdown",
   "metadata": {},
   "source": [
    "Parece que las tardes son mas inspiradoras para enviar audios.."
   ]
  }
 ],
 "metadata": {
  "kernelspec": {
   "display_name": "Python 3",
   "language": "python",
   "name": "python3"
  },
  "language_info": {
   "codemirror_mode": {
    "name": "ipython",
    "version": 3
   },
   "file_extension": ".py",
   "mimetype": "text/x-python",
   "name": "python",
   "nbconvert_exporter": "python",
   "pygments_lexer": "ipython3",
   "version": "3.8.3"
  }
 },
 "nbformat": 4,
 "nbformat_minor": 4
}
